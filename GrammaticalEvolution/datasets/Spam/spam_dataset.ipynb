{
 "cells": [
  {
   "cell_type": "code",
   "execution_count": 16,
   "id": "initial_id",
   "metadata": {
    "collapsed": true,
    "ExecuteTime": {
     "end_time": "2024-03-14T13:43:13.545561Z",
     "start_time": "2024-03-14T13:43:13.541877Z"
    }
   },
   "outputs": [],
   "source": [
    "import pandas as pd\n",
    "\n",
    "from sklearn.model_selection import train_test_split\n",
    "from sklearn.preprocessing import StandardScaler"
   ]
  },
  {
   "cell_type": "code",
   "outputs": [
    {
     "name": "stdout",
     "output_type": "stream",
     "text": [
      "     x1    x2    x3   x4    x5    x6    x7    x8    x9   x10  ...   x49  \\\n",
      "0  0.00  0.64  0.64  0.0  0.32  0.00  0.00  0.00  0.00  0.00  ...  0.00   \n",
      "1  0.21  0.28  0.50  0.0  0.14  0.28  0.21  0.07  0.00  0.94  ...  0.00   \n",
      "2  0.06  0.00  0.71  0.0  1.23  0.19  0.19  0.12  0.64  0.25  ...  0.01   \n",
      "3  0.00  0.00  0.00  0.0  0.63  0.00  0.31  0.63  0.31  0.63  ...  0.00   \n",
      "4  0.00  0.00  0.00  0.0  0.63  0.00  0.31  0.63  0.31  0.63  ...  0.00   \n",
      "\n",
      "     x50  x51    x52    x53    x54    x55  x56   x57  target  \n",
      "0  0.000  0.0  0.778  0.000  0.000  3.756   61   278       1  \n",
      "1  0.132  0.0  0.372  0.180  0.048  5.114  101  1028       1  \n",
      "2  0.143  0.0  0.276  0.184  0.010  9.821  485  2259       1  \n",
      "3  0.137  0.0  0.137  0.000  0.000  3.537   40   191       1  \n",
      "4  0.135  0.0  0.135  0.000  0.000  3.537   40   191       1  \n",
      "\n",
      "[5 rows x 58 columns]\n"
     ]
    }
   ],
   "source": [
    "# importing data \n",
    "data = pd.read_csv('spambase.csv') \n",
    "# head of the data \n",
    "print(data.head()) \n",
    "  \n",
    "X, y = data.iloc[:, :-1], data.iloc[:, -1]\n",
    "\n",
    "# using the train test split function \n",
    "X_train, X_test, y_train, y_test = train_test_split(X, y, random_state=104,  test_size=0.25, shuffle=True)\n",
    "\n",
    "train_data = pd.concat([X_train, y_train] , axis=1)\n",
    "test_data = pd.concat([X_test, y_test] , axis=1)\n",
    "\n",
    "train_data.to_csv('spam_train.csv', index=False)\n",
    "test_data.to_csv('spam_test.csv', index=False)"
   ],
   "metadata": {
    "collapsed": false,
    "ExecuteTime": {
     "end_time": "2024-03-14T13:43:15.419350Z",
     "start_time": "2024-03-14T13:43:15.150800Z"
    }
   },
   "id": "53b2325d8e2cf98a",
   "execution_count": 17
  },
  {
   "cell_type": "code",
   "outputs": [],
   "source": [
    "\n",
    "scaler = StandardScaler()\n",
    "X_normalized = pd.DataFrame(scaler.fit_transform(X), columns=X.columns)\n",
    "\n",
    "# using the train test split function \n",
    "X_train, X_test, y_train, y_test = train_test_split(X_normalized, y, random_state=104,  test_size=0.25, shuffle=True)\n",
    "\n",
    "train_data = pd.concat([X_train, y_train] , axis=1)\n",
    "test_data = pd.concat([X_test, y_test] , axis=1)\n",
    "\n",
    "train_data.to_csv('spam_norm_train.csv', index=False)\n",
    "test_data.to_csv('spam_norm_test.csv', index=False)"
   ],
   "metadata": {
    "collapsed": false,
    "ExecuteTime": {
     "end_time": "2024-03-14T13:47:48.791953Z",
     "start_time": "2024-03-14T13:47:48.081027Z"
    }
   },
   "id": "269898fd8e4acba3",
   "execution_count": 21
  },
  {
   "cell_type": "code",
   "outputs": [],
   "source": [],
   "metadata": {
    "collapsed": false
   },
   "id": "b21ec35895367ced"
  }
 ],
 "metadata": {
  "kernelspec": {
   "display_name": "Python 3",
   "language": "python",
   "name": "python3"
  },
  "language_info": {
   "codemirror_mode": {
    "name": "ipython",
    "version": 2
   },
   "file_extension": ".py",
   "mimetype": "text/x-python",
   "name": "python",
   "nbconvert_exporter": "python",
   "pygments_lexer": "ipython2",
   "version": "2.7.6"
  }
 },
 "nbformat": 4,
 "nbformat_minor": 5
}
